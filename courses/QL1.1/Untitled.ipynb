{
 "cells": [
  {
   "cell_type": "code",
   "execution_count": 6,
   "metadata": {},
   "outputs": [],
   "source": [
    "import pandas as pd\n",
    "import numpy as np"
   ]
  },
  {
   "cell_type": "code",
   "execution_count": 30,
   "metadata": {},
   "outputs": [
    {
     "name": "stdout",
     "output_type": "stream",
     "text": [
      "2.0\n"
     ]
    },
    {
     "data": {
      "text/plain": [
       "7"
      ]
     },
     "execution_count": 30,
     "metadata": {},
     "output_type": "execute_result"
    }
   ],
   "source": [
    "#data = np.array([1, 3, 5, 2, 3, 7, 8, 4, 10, 0, 6, 7, 3, 0, 3, 0, 5, 7, 10, 1, 4, 9, 3])\n",
    "\n",
    "\n",
    "data = np.array([2,4,7,10,12])\n",
    "def compute_median(dataset):\n",
    "    \"\"\" Returns the median of the dataset. \"\"\" \n",
    "    SortedData = np.sort(dataset)\n",
    "#TODO: Write your code here.   \n",
    "    if len(SortedData) % 2 == 1:\n",
    "       index = ((len(SortedData)+1)/2)-1\n",
    "       print(index)\n",
    "       return(SortedData[int(index)])\n",
    "    else:\n",
    "        indexFN = (int(len(SortedData)/2)-1)\n",
    "        print(indexFN)\n",
    "        indexSN = (int(len(SortedData)/2))\n",
    "        print(indexSN)\n",
    "        return((SortedData[indexFN]+SortedData[indexSN])/2)\n",
    "compute_median(data)"
   ]
  },
  {
   "cell_type": "code",
   "execution_count": null,
   "metadata": {},
   "outputs": [],
   "source": []
  },
  {
   "cell_type": "code",
   "execution_count": null,
   "metadata": {},
   "outputs": [],
   "source": []
  },
  {
   "cell_type": "code",
   "execution_count": null,
   "metadata": {},
   "outputs": [],
   "source": []
  }
 ],
 "metadata": {
  "kernelspec": {
   "display_name": "Python 3",
   "language": "python",
   "name": "python3"
  },
  "language_info": {
   "codemirror_mode": {
    "name": "ipython",
    "version": 3
   },
   "file_extension": ".py",
   "mimetype": "text/x-python",
   "name": "python",
   "nbconvert_exporter": "python",
   "pygments_lexer": "ipython3",
   "version": "3.8.3"
  }
 },
 "nbformat": 4,
 "nbformat_minor": 4
}
